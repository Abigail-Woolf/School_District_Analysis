{
 "cells": [
  {
   "cell_type": "code",
   "execution_count": 1,
   "metadata": {},
   "outputs": [],
   "source": [
    "# List of high schools\n",
    "high_schools = [\"Griffin High School\", \"Figueroa High school\",\n",
    "               \"Wilson High school\", \"Wright High school\"]"
   ]
  },
  {
   "cell_type": "code",
   "execution_count": 2,
   "metadata": {},
   "outputs": [
    {
     "data": {
      "text/plain": [
       "['Griffin High School',\n",
       " 'Figueroa High school',\n",
       " 'Wilson High school',\n",
       " 'Wright High school']"
      ]
     },
     "execution_count": 2,
     "metadata": {},
     "output_type": "execute_result"
    }
   ],
   "source": [
    "high_schools"
   ]
  },
  {
   "cell_type": "code",
   "execution_count": 3,
   "metadata": {},
   "outputs": [
    {
     "name": "stdout",
     "output_type": "stream",
     "text": [
      "Griffin High School\n",
      "Figueroa High school\n",
      "Wilson High school\n",
      "Wright High school\n"
     ]
    }
   ],
   "source": [
    "for school in high_schools:\n",
    "    print(school)"
   ]
  },
  {
   "cell_type": "code",
   "execution_count": 4,
   "metadata": {},
   "outputs": [
    {
     "data": {
      "text/plain": [
       "[{'high school': 'Griffin', 'type': 'District'},\n",
       " {'high school': 'Figueroa', 'type': 'District'},\n",
       " {'high school': 'Wilson', 'type': 'Charter'},\n",
       " {'high school': 'Wright', 'type': 'Charter'}]"
      ]
     },
     "execution_count": 4,
     "metadata": {},
     "output_type": "execute_result"
    }
   ],
   "source": [
    "# A dictionary of high schools and the type of school\n",
    "high_school_types= [{\"high school\":\"Griffin\", \"type\":\"District\"},\n",
    "                   {\"high school\":\"Figueroa\",\"type\":\"District\"},\n",
    "                   {\"high school\":\"Wilson\", \"type\": \"Charter\"},\n",
    "                   {\"high school\":\"Wright\",\"type\":\"Charter\"}]\n",
    "high_school_types"
   ]
  },
  {
   "cell_type": "code",
   "execution_count": 5,
   "metadata": {},
   "outputs": [
    {
     "name": "stdout",
     "output_type": "stream",
     "text": [
      "Griffin High School From Type: District\n",
      "Figueroa High School From Type: District\n",
      "Wilson High School From Type: Charter\n",
      "Wright High School From Type: Charter\n"
     ]
    }
   ],
   "source": [
    "for school in high_school_types:\n",
    "    print(f\"{school['high school']} High School From Type: {school['type']}\")"
   ]
  },
  {
   "cell_type": "code",
   "execution_count": null,
   "metadata": {},
   "outputs": [],
   "source": []
  }
 ],
 "metadata": {
  "kernelspec": {
   "display_name": "PythonData",
   "language": "python",
   "name": "pythondata"
  },
  "language_info": {
   "codemirror_mode": {
    "name": "ipython",
    "version": 3
   },
   "file_extension": ".py",
   "mimetype": "text/x-python",
   "name": "python",
   "nbconvert_exporter": "python",
   "pygments_lexer": "ipython3",
   "version": "3.7.6"
  }
 },
 "nbformat": 4,
 "nbformat_minor": 4
}
